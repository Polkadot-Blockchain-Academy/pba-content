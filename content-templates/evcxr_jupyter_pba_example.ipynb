{
 "cells": [
  {
   "cell_type": "markdown",
   "metadata": {},
   "source": [
    "# Polkadot Blockchain Academy EvCxR Jupyter Guide\n",
    "\n",
    "For those not already familiar with Jupyter notebooks or REPLs, they let you write code into \"cells\".\n",
    "\n",
    "Cells can contain markdown, like the cell you are reading now, or source code to be executed.\n",
    "Each code cell is compiled and executed separately, but variables, defined functions etc persist between cells."
   ]
  },
  {
   "cell_type": "markdown",
   "metadata": {},
   "source": [
    "## Notebook & Kernel Setup\n",
    "\n",
    "We want to use a few extra-handy features that are not default in all notebooks for the Academy.\n",
    "The instructions below are explained in more detail in the [EvCxR Common Docs](https://github.com/google/evcxr/blob/main/COMMON.md#documentation).\n",
    "\n",
    "### Caching\n",
    "\n",
    "We will use [sccache](https://github.com/mozilla/sccache) as we frequently use the same {substrate} crates, and restarting the kernel will clear all build artifacts without it.\n",
    "\n",
    "You can install sccache with cargo:\n",
    "\n",
    "```sh\n",
    "$ cargo install sccache\n",
    "```\n",
    "\n",
    "### Linker\n",
    "\n",
    "Installing the [`lld`](https://lld.llvm.org/) linker it is recommended as it is generally faster than the default system linker.\n",
    "On Debian-based systems you might be able to install it with:\n",
    "\n",
    "```sh\n",
    "$ sudo apt install lld\n",
    "```\n",
    "\n",
    "`lld` will be used automatically if detected on all systems with the exception of Mac OS. You can check which linker is being used by running `:linker`.\n",
    "Set with `:linker [linker]` using one of `system`, `lld`, or `mold`."
   ]
  },
  {
   "cell_type": "code",
   "execution_count": 2,
   "metadata": {
    "vscode": {
     "languageId": "rust"
    }
   },
   "outputs": [
    {
     "data": {
      "text/plain": [
       "sccache: true\n",
       "linker: lld\n",
       "\"/tmp/.tmp9T5j8w\"\n"
      ]
     },
     "execution_count": 2,
     "metadata": {},
     "output_type": "execute_result"
    }
   ],
   "source": [
    ":sccache 1\n",
    ":linker lld\n",
    "\n",
    ":last_compile_dir"
   ]
  },
  {
   "cell_type": "markdown",
   "metadata": {},
   "source": [
    "## Loading external crates\n",
    "We can load external crates. This one takes a while to compile, but once it's compiled, subsequent cells shouldn't need to recompile it, so it should be much quicker."
   ]
  },
  {
   "cell_type": "markdown",
   "metadata": {},
   "source": [
    "As an example for Substrate, we derive from https://paritytech.github.io/substrate/master/sp_core/crypto/struct.SecretUri.html#example :"
   ]
  },
  {
   "cell_type": "code",
   "execution_count": 3,
   "metadata": {
    "vscode": {
     "languageId": "rust"
    }
   },
   "outputs": [
    {
     "name": "stdout",
     "output_type": "stream",
     "text": [
      "Raw encoded Junctions = [Hard([20, 65, 108, 105, 99, 101, 0, 0, 0, 0, 0, 0, 0, 0, 0, 0, 0, 0, 0, 0, 0, 0, 0, 0, 0, 0, 0, 0, 0, 0, 0, 0])]\n",
      "DEV_PHRASE = \"bottom drive obey lake curtain smoke basket hold race lonely fit walk\"\n"
     ]
    }
   ],
   "source": [
    ":dep sp-std = { version = \"4.0.0\", git = \"https://github.com/paritytech/substrate.git\", branch = \"polkadot-v0.9.22\" }\n",
    ":dep sp-core = { version = \"6.0.0\", git = \"https://github.com/paritytech/substrate.git\", branch = \"polkadot-v0.9.22\" }\n",
    "\n",
    "use sp_std::str::FromStr;\n",
    "use sp_core::crypto::{SecretUri, DeriveJunction, ExposeSecret, DEV_PHRASE};\n",
    "\n",
    "let suri = SecretUri::from_str(\"//Alice///SECRET_PASSWORD\").expect(\"Parse SURI\");\n",
    "\n",
    "assert_eq!(\"SECRET_PASSWORD\", suri.password.unwrap().expose_secret());\n",
    "\n",
    "// View the raw encoded junction: Hard as it has `//` & should be \"Alice\" stored in ASCII - https://www.asciitable.com/ )\n",
    "println!(\"Raw encoded Junctions = {:?}\", &suri.junctions);\n",
    "\n",
    "println!(\"DEV_PHRASE = {:?}\", &suri.phrase.expose_secret());"
   ]
  },
  {
   "cell_type": "markdown",
   "metadata": {},
   "source": [
    "## Assigning and making use of variables\n",
    "We define a variable `message`, then in the subsequent cell, modify the string and finally print it out. We could also do all this in the one cell if we wanted."
   ]
  },
  {
   "cell_type": "code",
   "execution_count": 4,
   "metadata": {
    "vscode": {
     "languageId": "rust"
    }
   },
   "outputs": [],
   "source": [
    "let mut message = \"Hello \".to_owned();"
   ]
  },
  {
   "cell_type": "code",
   "execution_count": 5,
   "metadata": {
    "vscode": {
     "languageId": "rust"
    }
   },
   "outputs": [],
   "source": [
    "message.push_str(\"world!\");"
   ]
  },
  {
   "cell_type": "code",
   "execution_count": 6,
   "metadata": {
    "vscode": {
     "languageId": "rust"
    }
   },
   "outputs": [
    {
     "data": {
      "text/plain": [
       "\"Hello world!\""
      ]
     },
     "execution_count": 6,
     "metadata": {},
     "output_type": "execute_result"
    }
   ],
   "source": [
    "message"
   ]
  },
  {
   "cell_type": "markdown",
   "metadata": {},
   "source": [
    "Try _re-running_ the commands above to see the persistance of variables in action.\n",
    "\n",
    "Need to start-over?\n",
    "Reset the kernel to _start from scratch_."
   ]
  },
  {
   "cell_type": "markdown",
   "metadata": {},
   "source": [
    "Other built-in EvCxR commands can be found via `:help`"
   ]
  },
  {
   "cell_type": "code",
   "execution_count": 7,
   "metadata": {
    "vscode": {
     "languageId": "rust"
    }
   },
   "outputs": [
    {
     "data": {
      "text/html": [
       "<table>\n",
       "<tr><td>:clear</td><td>Clear all state, keeping compilation cache</td></tr>\n",
       "<tr><td>:dep</td><td>Add dependency. e.g. :dep regex = \"1.0\"</td></tr>\n",
       "<tr><td>:efmt</td><td>Set the formatter for errors returned by ?</td></tr>\n",
       "<tr><td>:explain</td><td>Print explanation of last error</td></tr>\n",
       "<tr><td>:fmt</td><td>Set output formatter (default: {:?})</td></tr>\n",
       "<tr><td>:help</td><td>Print command help</td></tr>\n",
       "<tr><td>:internal_debug</td><td>Toggle various internal debugging code</td></tr>\n",
       "<tr><td>:last_compile_dir</td><td>Print the directory in which we last compiled</td></tr>\n",
       "<tr><td>:last_error_json</td><td>Print the last compilation error as JSON (for debugging)</td></tr>\n",
       "<tr><td>:linker</td><td>Set/print linker. Supported: system, lld</td></tr>\n",
       "<tr><td>:load_config</td><td>Reloads startup configuration files. Accepts optional flag `--quiet` to suppress logging.</td></tr>\n",
       "<tr><td>:offline</td><td>Set offline mode when invoking cargo</td></tr>\n",
       "<tr><td>:opt</td><td>Set optimization level (0/1/2)</td></tr>\n",
       "<tr><td>:preserve_vars_on_panic</td><td>Try to keep vars on panic (0/1)</td></tr>\n",
       "<tr><td>:quit</td><td>Quit evaluation and exit</td></tr>\n",
       "<tr><td>:sccache</td><td>Set whether to use sccache (0/1).</td></tr>\n",
       "<tr><td>:time_passes</td><td>Toggle printing of rustc pass times (requires nightly)</td></tr>\n",
       "<tr><td>:timing</td><td>Toggle printing of how long evaluations take</td></tr>\n",
       "<tr><td>:toolchain</td><td>Set which toolchain to use (e.g. nightly)</td></tr>\n",
       "<tr><td>:vars</td><td>List bound variables and their types</td></tr>\n",
       "<tr><td>:version</td><td>Print Evcxr version</td></tr>\n",
       "</table>\n"
      ],
      "text/plain": [
       ":clear            Clear all state, keeping compilation cache\n",
       ":dep              Add dependency. e.g. :dep regex = \"1.0\"\n",
       ":efmt             Set the formatter for errors returned by ?\n",
       ":explain          Print explanation of last error\n",
       ":fmt              Set output formatter (default: {:?})\n",
       ":help             Print command help\n",
       ":internal_debug   Toggle various internal debugging code\n",
       ":last_compile_dir Print the directory in which we last compiled\n",
       ":last_error_json  Print the last compilation error as JSON (for debugging)\n",
       ":linker           Set/print linker. Supported: system, lld\n",
       ":load_config      Reloads startup configuration files. Accepts optional flag `--quiet` to suppress logging.\n",
       ":offline          Set offline mode when invoking cargo\n",
       ":opt              Set optimization level (0/1/2)\n",
       ":preserve_vars_on_panic Try to keep vars on panic (0/1)\n",
       ":quit             Quit evaluation and exit\n",
       ":sccache          Set whether to use sccache (0/1).\n",
       ":time_passes      Toggle printing of rustc pass times (requires nightly)\n",
       ":timing           Toggle printing of how long evaluations take\n",
       ":toolchain        Set which toolchain to use (e.g. nightly)\n",
       ":vars             List bound variables and their types\n",
       ":version          Print Evcxr version\n"
      ]
     },
     "execution_count": 7,
     "metadata": {},
     "output_type": "execute_result"
    }
   ],
   "source": [
    ":help"
   ]
  }
 ],
 "metadata": {
  "kernelspec": {
   "display_name": "Rust",
   "language": "rust",
   "name": "rust"
  },
  "language_info": {
   "codemirror_mode": "rust",
   "file_extension": ".rs",
   "mimetype": "text/rust",
   "name": "Rust",
   "pygment_lexer": "rust",
   "version": ""
  }
 },
 "nbformat": 4,
 "nbformat_minor": 4
}
