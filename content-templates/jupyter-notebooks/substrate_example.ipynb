{
 "cells": [
  {
   "cell_type": "markdown",
   "metadata": {
    "slideshow": {
     "slide_type": "slide"
    },
    "tags": []
   },
   "source": [
    "# Polkadot Blockchain Academy EvCxR Jupyter Guide\n",
    "\n",
    "For those not already familiar with Jupyter notebooks or REPLs, they let you write code into \"cells\".\n",
    "\n",
    "Cells can contain markdown, like the cell you are reading now, or source code to be executed.\n",
    "Each code cell is compiled and executed separately, but variables, defined functions etc persist between cells."
   ]
  },
  {
   "cell_type": "markdown",
   "metadata": {
    "slideshow": {
     "slide_type": "slide"
    },
    "tags": []
   },
   "source": [
    "## Notebook & Kernel Setup\n",
    "\n",
    "We want to use a few extra-handy features that are not default in all notebooks for the Academy.\n",
    "The instructions below are explained in more detail in the [EvCxR Common Docs](https://github.com/google/evcxr/blob/main/COMMON.md#documentation)."
   ]
  },
  {
   "cell_type": "markdown",
   "metadata": {
    "slideshow": {
     "slide_type": "subslide"
    },
    "tags": []
   },
   "source": [
    "\n",
    "### Caching (optional, highly suggested)\n",
    "\n",
    "We will use [sccache](https://github.com/mozilla/sccache) as we frequently use the same {substrate} crates, and restarting the kernel will clear all build artifacts without it.\n",
    "\n",
    "You can install sccache with cargo:\n",
    "\n",
    "```sh\n",
    "$ cargo install sccache\n",
    "```\n",
    "\n",
    "### Linker (semi-optional, highly suggested)\n",
    "\n",
    "Installing the [`lld`](https://lld.llvm.org/) linker it is recommended as it is generally faster than the default system linker.\n",
    "On Debian-based systems you might be able to install it with:\n",
    "\n",
    "```sh\n",
    "$ sudo apt install lld\n",
    "```\n",
    "\n",
    "`lld` will be used automatically if detected on all systems with the exception of Mac OS. You can check which linker is being used by running `:linker`.\n",
    "Set with `:linker [linker]` using one of `system`, `lld`, or `mold`."
   ]
  },
  {
   "cell_type": "markdown",
   "metadata": {
    "slideshow": {
     "slide_type": "slide"
    },
    "tags": []
   },
   "source": [
    "## Template Cells\n",
    "\n",
    "Use the cells below to start your notebook, modify as needed"
   ]
  },
  {
   "cell_type": "code",
   "execution_count": 2,
   "metadata": {},
   "outputs": [
    {
     "data": {
      "text/plain": [
       "sccache: true\n",
       "linker: lld\n",
       "\"/tmp/.tmpZVWvI4\"\n"
      ]
     },
     "execution_count": 2,
     "metadata": {},
     "output_type": "execute_result"
    }
   ],
   "source": [
    ":sccache 1\n",
    ":linker lld\n",
    ":last_compile_dir\n",
    "\n",
    "// This cell is needed to enable optional features, should be run at kernel startup "
   ]
  },
  {
   "cell_type": "markdown",
   "metadata": {
    "slideshow": {
     "slide_type": "slide"
    },
    "tags": []
   },
   "source": [
    "## Substrate Create Use Example\n",
    "\n",
    "Derived from https://paritytech.github.io/substrate/master/sp_core/crypto/struct.SecretUri.html#example :"
   ]
  },
  {
   "cell_type": "code",
   "execution_count": null,
   "metadata": {},
   "outputs": [],
   "source": [
    ":dep sp-std = { version = \"4.0.0\", git = \"https://github.com/paritytech/substrate.git\", branch = \"polkadot-v0.9.22\" }\n",
    ":dep sp-core = { version = \"6.0.0\", git = \"https://github.com/paritytech/substrate.git\", branch = \"polkadot-v0.9.22\" }\n",
    "\n",
    "// Loading & building crates here takes *a while*! \n",
    "// Have this cell up top with all needed dependancies students can run this while reading.\n",
    "// Once it's compiled, subsequent cells shouldn't need to recompile it, so it should be much quicker.\n",
    "// NOTE: A kernel restart clears all artifacts! (except those in sccache) - so restart only if explicitly needed.\n"
   ]
  },
  {
   "cell_type": "code",
   "execution_count": null,
   "metadata": {},
   "outputs": [],
   "source": [
    "// Note: you need to run the cell with `:dep` lines before this one\n",
    "\n",
    "use sp_std::str::FromStr;\n",
    "use sp_core::crypto::{SecretUri, ExposeSecret};\n",
    "\n",
    "let suri = SecretUri::from_str(\"//Alice///SECRET_PASSWORD\").expect(\"Parse SURI\");\n",
    "\n",
    "assert_eq!(\"SECRET_PASSWORD\", suri.password.unwrap().expose_secret());\n",
    "\n",
    "// View the raw encoded junction: Hard as it has `//` & should be \"Alice\" stored in ASCII - https://www.asciitable.com/ )\n",
    "println!(\"Raw encoded Junctions = {:?}\", &suri.junctions);\n",
    "\n",
    "println!(\"DEV_PHRASE = {:?}\", &suri.phrase.expose_secret());"
   ]
  },
  {
   "cell_type": "code",
   "execution_count": null,
   "metadata": {},
   "outputs": [],
   "source": []
  }
 ],
 "metadata": {
  "kernelspec": {
   "display_name": "Rust",
   "language": "rust",
   "name": "rust"
  },
  "language_info": {
   "codemirror_mode": "rust",
   "file_extension": ".rs",
   "mimetype": "text/rust",
   "name": "Rust",
   "pygment_lexer": "rust",
   "version": ""
  }
 },
 "nbformat": 4,
 "nbformat_minor": 4
}
