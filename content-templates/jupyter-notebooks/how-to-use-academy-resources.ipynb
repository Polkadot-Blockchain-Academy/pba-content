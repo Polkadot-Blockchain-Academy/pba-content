{
 "cells": [
  {
   "cell_type": "markdown",
   "metadata": {
    "slideshow": {
     "slide_type": "slide"
    }
   },
   "source": [
    "# How to use Academy Resources\n",
    "\n",
    "### _SME Developer Meta-lecture_"
   ]
  },
  {
   "cell_type": "code",
   "execution_count": 3,
   "metadata": {
    "slideshow": {
     "slide_type": "fragment"
    },
    "vscode": {
     "languageId": "rust"
    }
   },
   "outputs": [
    {
     "data": {
      "text/html": [
       "<img style=\"width: 30vw\"src=\"https://i.giphy.com/media/yoJC2A59OCZHs1LXvW/giphy.webp\">"
      ]
     },
     "execution_count": 3,
     "metadata": {},
     "output_type": "execute_result"
    }
   ],
   "source": [
    "// Have fun with raw HTML support in Rust `stdout`-like results :)\n",
    "\n",
    "println!(\"EVCXR_BEGIN_CONTENT text/html\\n<img style=\\\"width: 30vw\\\"src=\\\"https://i.giphy.com/media/yoJC2A59OCZHs1LXvW/giphy.webp\\\">\\nEVCXR_END_CONTENT\");"
   ]
  },
  {
   "cell_type": "markdown",
   "metadata": {
    "slideshow": {
     "slide_type": "slide"
    },
    "tags": []
   },
   "source": [
    "\n",
    "## In this micro-lesson, we will cover:\n",
    "\n",
    "- Giving a lecture from a notebook\n",
    "- Show examples running Rust shell embedded in a notebook\n"
   ]
  },
  {
   "cell_type": "markdown",
   "metadata": {
    "slideshow": {
     "slide_type": "slide"
    },
    "tags": []
   },
   "source": [
    "## Pre-requisites\n",
    "\n",
    "No background in anything but Rust is necessary. However, the following are expected:\n",
    "\n",
    "- $\\sum_{n=1}^\\infty {\\alpha\\omega}some_n$ = $work$ for all $work$ done so far"
   ]
  },
  {
   "cell_type": "markdown",
   "metadata": {
    "slideshow": {
     "slide_type": "slide"
    }
   },
   "source": [
    "\n",
    "### _At the end of this lecture, you will be able to:_\n",
    "\n",
    "- Navigate a notebook\n",
    "- Undrestand hot to present from a notebook\n",
    "- Update cells & export slides from a notebook"
   ]
  },
  {
   "cell_type": "markdown",
   "metadata": {
    "slideshow": {
     "slide_type": "slide"
    },
    "tags": []
   },
   "source": [
    "## Tour of the EvCxR Jupyter Kernel\n",
    "\n",
    "For those not already familiar with Jupyter notebook, it lets you write code into \"cells\" like the box below. Cells can alternatively contain markdown, like this text here. Each code cell is compiled and executed separately, but variables, defined functions etc persist between cells."
   ]
  },
  {
   "cell_type": "markdown",
   "metadata": {
    "slideshow": {
     "slide_type": "slide"
    },
    "tags": []
   },
   "source": [
    "### Printing to outputs and evaluating expressions\n",
    "Lets print something to stdout and stderr then return a final expression to see how that's presented. Note that stdout and stderr are separate streams, so may not appear in the same order is their respective print statements."
   ]
  },
  {
   "cell_type": "code",
   "execution_count": 4,
   "metadata": {
    "slideshow": {
     "slide_type": "fragment"
    },
    "vscode": {
     "languageId": "rust"
    }
   },
   "outputs": [
    {
     "name": "stdout",
     "output_type": "stream",
     "text": [
      "Hello world\n"
     ]
    },
    {
     "name": "stderr",
     "output_type": "stream",
     "text": [
      "Hello FAAAAAACK\n"
     ]
    },
    {
     "data": {
      "text/plain": [
       "\"Hello world\""
      ]
     },
     "execution_count": 4,
     "metadata": {},
     "output_type": "execute_result"
    }
   ],
   "source": [
    "println!(\"Hello world\");\n",
    "eprintln!(\"Hello FAAAAAACK\");\n",
    "format!(\"Hello {}\", \"world\")"
   ]
  },
  {
   "cell_type": "markdown",
   "metadata": {
    "slideshow": {
     "slide_type": "slide"
    }
   },
   "source": [
    "## Assigning and making use of variables\n",
    "We define a variable `message`, then in the subsequent cell, modify the string and finally print it out. We could also do all this in the one cell if we wanted."
   ]
  },
  {
   "cell_type": "code",
   "execution_count": null,
   "metadata": {
    "vscode": {
     "languageId": "rust"
    }
   },
   "outputs": [],
   "source": [
    "let mut message = \"Hello \".to_owned();"
   ]
  },
  {
   "cell_type": "code",
   "execution_count": null,
   "metadata": {
    "vscode": {
     "languageId": "rust"
    }
   },
   "outputs": [],
   "source": [
    "message.push_str(\"world!\");"
   ]
  },
  {
   "cell_type": "code",
   "execution_count": null,
   "metadata": {
    "vscode": {
     "languageId": "rust"
    }
   },
   "outputs": [],
   "source": [
    "message"
   ]
  },
  {
   "cell_type": "markdown",
   "metadata": {
    "slideshow": {
     "slide_type": "slide"
    },
    "tags": []
   },
   "source": [
    "## Demo that the CLI shell vorks with state of REPL from notebooks\n",
    "\n",
    "- You can open tabs in _Jupyter lab_ or terminals\n",
    "  - `File` -> `New shell for notebook`"
   ]
  },
  {
   "cell_type": "markdown",
   "metadata": {
    "slideshow": {
     "slide_type": "slide"
    }
   },
   "source": [
    "## Defining and redefining functions\n",
    "Next we'll define a function"
   ]
  },
  {
   "cell_type": "code",
   "execution_count": null,
   "metadata": {
    "vscode": {
     "languageId": "rust"
    }
   },
   "outputs": [],
   "source": [
    "pub fn fib(x: i32) -> i32 {\n",
    "    if x <= 2 {0} else {fib(x - 2) + fib(x - 1)}\n",
    "}"
   ]
  },
  {
   "cell_type": "code",
   "execution_count": null,
   "metadata": {
    "vscode": {
     "languageId": "rust"
    }
   },
   "outputs": [],
   "source": [
    "(1..13).map(fib).collect::<Vec<i32>>()"
   ]
  },
  {
   "cell_type": "markdown",
   "metadata": {},
   "source": [
    "Hmm, that doesn't look right. Lets redefine the function. In practice, we'd go back and edit the function above and reevalute it, but here, lets redefine it in a separate cell."
   ]
  },
  {
   "cell_type": "code",
   "execution_count": null,
   "metadata": {
    "slideshow": {
     "slide_type": "fragment"
    },
    "tags": [],
    "vscode": {
     "languageId": "rust"
    }
   },
   "outputs": [],
   "source": [
    "pub fn fib(x: i32) -> i32 {\n",
    "    if x <= 2 {1} else {fib(x - 2) + fib(x - 1)}\n",
    "}"
   ]
  },
  {
   "cell_type": "code",
   "execution_count": null,
   "metadata": {
    "vscode": {
     "languageId": "rust"
    }
   },
   "outputs": [],
   "source": [
    "let values = (1..13).map(fib).collect::<Vec<i32>>();\n",
    "values"
   ]
  },
  {
   "cell_type": "markdown",
   "metadata": {
    "slideshow": {
     "slide_type": "slide"
    }
   },
   "source": [
    "## Spawning a separate thread and communicating with it\n",
    "We can spawn a thread to do stuff in the background, then continue executing code in other cells."
   ]
  },
  {
   "cell_type": "code",
   "execution_count": null,
   "metadata": {
    "vscode": {
     "languageId": "rust"
    }
   },
   "outputs": [],
   "source": [
    "use std::sync::{Mutex, Arc};\n",
    "let counter = Arc::new(Mutex::new(0i32));\n",
    "std::thread::spawn({\n",
    "    let counter = Arc::clone(&counter);\n",
    "    move || {\n",
    "        for i in 1..300 {\n",
    "            *counter.lock().unwrap() += 1;\n",
    "            std::thread::sleep(std::time::Duration::from_millis(100));\n",
    "        }\n",
    "}});"
   ]
  },
  {
   "cell_type": "code",
   "execution_count": null,
   "metadata": {
    "vscode": {
     "languageId": "rust"
    }
   },
   "outputs": [],
   "source": [
    "*counter.lock()?"
   ]
  },
  {
   "cell_type": "code",
   "execution_count": null,
   "metadata": {
    "vscode": {
     "languageId": "rust"
    }
   },
   "outputs": [],
   "source": [
    "*counter.lock()?"
   ]
  },
  {
   "cell_type": "markdown",
   "metadata": {
    "slideshow": {
     "slide_type": "slide"
    }
   },
   "source": [
    "## Loading external crates\n",
    "We can load external crates. This one takes a while to compile, but once it's compiled, subsequent cells shouldn't need to recompile it, so it should be much quicker."
   ]
  },
  {
   "cell_type": "code",
   "execution_count": null,
   "metadata": {
    "vscode": {
     "languageId": "rust"
    }
   },
   "outputs": [],
   "source": [
    ":dep base64 = \"0.10.1\"\n",
    "base64::encode(&vec![1, 2, 3, 4])"
   ]
  },
  {
   "cell_type": "markdown",
   "metadata": {
    "slideshow": {
     "slide_type": "slide"
    }
   },
   "source": [
    "## Display of compilation errors\n",
    "Here's how compilation errors are presented. Here we forgot an & and passed a String instead of an &str."
   ]
  },
  {
   "cell_type": "code",
   "execution_count": 2,
   "metadata": {
    "vscode": {
     "languageId": "rust"
    }
   },
   "outputs": [
    {
     "ename": "Error",
     "evalue": "mismatched types",
     "output_type": "error",
     "traceback": [
      "s.push_str(format!(\"foo {}\", 42));",
      "           ^^^^^^^^^^^^^^^^^^^^^ expected `&str`, found struct `String`",
      "mismatched types"
     ]
    }
   ],
   "source": [
    "let mut s = String::new();\n",
    "s.push_str(format!(\"foo {}\", 42));"
   ]
  },
  {
   "cell_type": "markdown",
   "metadata": {
    "slideshow": {
     "slide_type": "slide"
    },
    "tags": []
   },
   "source": [
    "## Problem->Soluion Driven Examples\n",
    "\n",
    "Leave code incorrect, incomplete, or even perhaps empty and edit to working final state live in ront of class"
   ]
  },
  {
   "cell_type": "code",
   "execution_count": null,
   "metadata": {
    "vscode": {
     "languageId": "rust"
    }
   },
   "outputs": [],
   "source": [
    "struct SGen<T>(T); // Generic type `SGen`.\n",
    "\n",
    "// The following function takes ownership of the variable passed into\n",
    "// it and immediately go out of scope, freeing the variable.\n",
    "\n",
    "// Defines a function `generic` that takes an argument `_s` of type `SGen<T>`.\n",
    "// Because `SGen<T>` is preceded by `<T>`, this function is generic over `T`.\n",
    "fn generic<T>(_s: SGen<T>) {}"
   ]
  },
  {
   "cell_type": "code",
   "execution_count": null,
   "metadata": {
    "slideshow": {
     "slide_type": "subslide"
    },
    "vscode": {
     "languageId": "rust"
    }
   },
   "outputs": [],
   "source": [
    "// PROBLEM\n",
    "// The `i32` type should be used concretely, with the value \"9\"\n",
    "generic::<i32>(SGen(9));\n",
    "\n",
    "// https://source.unsplash.com/random/?congratulations\n",
    "// https://c.tenor.com/a-JCriStObMAAAAC/tenor.gif\n",
    "println!(\"EVCXR_BEGIN_CONTENT text/html\\n<img style=\\\"width: 30vw\\\"src=\\\"../../assets/img/0-Shared/mission-accomplished.gif\\\">\\nEVCXR_END_CONTENT\");"
   ]
  },
  {
   "cell_type": "markdown",
   "metadata": {},
   "source": [
    "## Alternatives to Jupyter _lab_\n",
    "\n",
    "- You _may_ use a shell via CLI only, but this _is not recommended!_ Notebooks are superior in many ways!\n",
    "- You can use VSCode & Jupyter notebooks extension to develop notebooks (and students can most easily interact with them!)"
   ]
  },
  {
   "cell_type": "markdown",
   "metadata": {
    "slideshow": {
     "slide_type": "slide"
    }
   },
   "source": [
    "## Conclusion\n",
    "\n",
    "- Follow your gut, express the content as you see fit: sides, notebook, standalone crates, or whatever is the _best_ way you can help students coprehend **practically**.\n",
    "- You have eager, domain commpitent support to help you **_rapidly innovate_**! {We have only a month to showtime!!"
   ]
  },
  {
   "cell_type": "markdown",
   "metadata": {
    "slideshow": {
     "slide_type": "slide"
    }
   },
   "source": [
    "## Next steps\n",
    "\n",
    "1. Get familiar wth the timeline of deliverables for your content, the tooling available to build notebooks, who your contacts are on the education team.\n",
    "1. Start & continue work, update the edu team of progress *Dan Davis tracking formally*"
   ]
  }
 ],
 "metadata": {
  "celltoolbar": "Slideshow",
  "kernelspec": {
   "display_name": "Rust",
   "language": "rust",
   "name": "rust"
  },
  "language_info": {
   "codemirror_mode": "rust",
   "file_extension": ".rs",
   "mimetype": "text/rust",
   "name": "Rust",
   "pygment_lexer": "rust",
   "version": ""
  }
 },
 "nbformat": 4,
 "nbformat_minor": 4
}
