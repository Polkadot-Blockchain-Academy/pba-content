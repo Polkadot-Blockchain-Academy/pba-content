{
 "cells": [
  {
   "cell_type": "markdown",
   "metadata": {},
   "source": [
    "# Jupyter Activity Template\n",
    "\n",
    "### _Module X, Lesson Y_"
   ]
  },
  {
   "cell_type": "markdown",
   "metadata": {},
   "source": [
    "\n",
    "## In this Activity, we will practice:\n",
    "\n",
    "<!--- Insert Skills that are being practiced. Simple syntax is fine, e.g., \"Using pallets.\" \"Building a hash function\"--->\n",
    "- Skill 1\n",
    "- Skill 2\n",
    "- Skill 3\n"
   ]
  },
  {
   "cell_type": "markdown",
   "metadata": {},
   "source": [
    "\n",
    "## Instructions:\n",
    "\n",
    "<!---\n",
    "Write numeric instructions in the order that the instructor will complete them.\n",
    "\n",
    "Use language that is as direct and straightforward as possible for each instruction.\n",
    "Consider starting each instruction with a verb (e.g., \"Open the XXX file\", \"Call the XXX API\").\n",
    "\n",
    "If any particular instruction is complicated, use multiple sentences or insert an image.\n",
    "\n",
    "For the last instruction, clarify what 'success' looks like at the end of the workshop.\n",
    "--->\n",
    "\n",
    "1. \n",
    "2. \n",
    "\n"
   ]
  },
  {
   "cell_type": "code",
   "execution_count": 2,
   "metadata": {
    "vscode": {
     "languageId": "rust"
    }
   },
   "outputs": [],
   "source": [
    "struct A;          // Concrete type `A`.\n",
    "struct S(A);       // Concrete type `S`.\n",
    "struct SGen<T>(T); // Generic type `SGen`.\n",
    "\n",
    "// The following functions all take ownership of the variable passed into\n",
    "// them and immediately go out of scope, freeing the variable.\n",
    "\n",
    "// Define a function `reg_fn` that takes an argument `_s` of type `S`.\n",
    "// This has no `<T>` so this is not a generic function.\n",
    "fn reg_fn(_s: S) {}\n",
    "\n",
    "// Define a function `gen_spec_t` that takes an argument `_s` of type `SGen<T>`.\n",
    "// It has been explicitly given the type parameter `A`, but because `A` has not \n",
    "// been specified as a generic type parameter for `gen_spec_t`, it is not generic.\n",
    "fn gen_spec_t(_s: SGen<A>) {}\n",
    "\n",
    "// Define a function `gen_spec_i32` that takes an argument `_s` of type `SGen<i32>`.\n",
    "// It has been explicitly given the type parameter `i32`, which is a specific type.\n",
    "// Because `i32` is not a generic type, this function is also not generic.\n",
    "fn gen_spec_i32(_s: SGen<i32>) {}\n",
    "\n",
    "// Define a function `generic` that takes an argument `_s` of type `SGen<T>`.\n",
    "// Because `SGen<T>` is preceded by `<T>`, this function is generic over `T`.\n",
    "fn generic<T>(_s: SGen<T>) {}"
   ]
  },
  {
   "cell_type": "markdown",
   "metadata": {},
   "source": [
    "\n",
    "3. \n",
    "4. \n"
   ]
  },
  {
   "cell_type": "code",
   "execution_count": 3,
   "metadata": {
    "vscode": {
     "languageId": "rust"
    }
   },
   "outputs": [],
   "source": [
    "// Using the non-generic functions\n",
    "reg_fn(S(A));          // Concrete type.\n",
    "gen_spec_t(SGen(A));   // Implicitly specified type parameter `A`.\n",
    "gen_spec_i32(SGen(6)); // Implicitly specified type parameter `i32`.\n",
    "\n",
    "// Explicitly specified type parameter `char` to `generic()`.\n",
    "generic::<char>(SGen('a'));\n",
    "\n",
    "// Implicitly specified type parameter `char` to `generic()`.\n",
    "generic(SGen('c'));"
   ]
  },
  {
   "cell_type": "markdown",
   "metadata": {},
   "source": [
    "\n",
    "### Solution Validation:\n",
    "\n",
    "<!--- Write a snippet of rust in the form of a unit test that prints a fub image if students pass it --->"
   ]
  },
  {
   "cell_type": "markdown",
   "metadata": {},
   "source": [
    "Edit the code below such that the cell executes successfully: "
   ]
  },
  {
   "cell_type": "code",
   "execution_count": 9,
   "metadata": {
    "vscode": {
     "languageId": "rust"
    }
   },
   "outputs": [
    {
     "data": {
      "text/html": [
       "<img style=\"width: 30vw\"src=\"../../assets/img/Shared/mission-accomplished.gif\">"
      ]
     },
     "execution_count": 9,
     "metadata": {},
     "output_type": "execute_result"
    }
   ],
   "source": [
    "// The `i32` type should be used concretely, with the value \"9\"\n",
    "generic::<i32>(SGen(9));\n",
    "\n",
    "// https://source.unsplash.com/random/?congratulations\n",
    "// https://c.tenor.com/a-JCriStObMAAAAC/tenor.gif\n",
    "println!(\"EVCXR_BEGIN_CONTENT text/html\\n<img style=\\\"width: 30vw\\\"src=\\\"../../assets/img/Shared/mission-accomplished.gif\\\">\\nEVCXR_END_CONTENT\");"
   ]
  },
  {
   "cell_type": "markdown",
   "metadata": {},
   "source": [
    "[]()\n",
    "### Hints:\n",
    "\n",
    "<!--- Add hints for any instructions or steps that are particularly complicated. Hints should not entirely provide the \n",
    "answer, but should provide a reference point for users to find the answer. --->"
   ]
  }
 ],
 "metadata": {
  "kernelspec": {
   "display_name": "Rust",
   "language": "rust",
   "name": "rust"
  },
  "language_info": {
   "codemirror_mode": "rust",
   "file_extension": ".rs",
   "mimetype": "text/rust",
   "name": "Rust",
   "pygment_lexer": "rust",
   "version": ""
  }
 },
 "nbformat": 4,
 "nbformat_minor": 4
}
