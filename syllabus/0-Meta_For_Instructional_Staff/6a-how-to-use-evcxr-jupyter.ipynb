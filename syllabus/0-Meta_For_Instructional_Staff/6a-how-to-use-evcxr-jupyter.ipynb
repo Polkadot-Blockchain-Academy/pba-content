{
 "cells": [
  {
   "attachments": {},
   "cell_type": "markdown",
   "metadata": {
    "slideshow": {
     "slide_type": "slide"
    },
    "tags": []
   },
   "source": [
    "# How to use [Evcxr](https://github.com/google/evcxr) in a Jupyter Notebook and/or REPL"
   ]
  },
  {
   "cell_type": "markdown",
   "metadata": {
    "tags": []
   },
   "source": [
    "## \\[Note on use\\] Reset, keeping build artifacts\n",
    "\n",
    "Run the below cell or commands in a shell to \"reset\" the kernel, keeping build artifacts:"
   ]
  },
  {
   "cell_type": "code",
   "execution_count": null,
   "metadata": {},
   "outputs": [],
   "source": [
    ":clear // Clear all state, **keeping compilation cache**, use this over a kernel restart when possible. You will need to re-run the :deps to have them loaded into state. \n",
    ":last_compile_dir // Show where the target is for cargo for this kernel, in case you want to recover these"
   ]
  },
  {
   "attachments": {},
   "cell_type": "markdown",
   "metadata": {},
   "source": [
    "Set the env var `EVCXR_TMPDIR=<the output of :last_compile_dir>` to get the REPL to use this dir.\n",
    "\n",
    "```sh\n",
    "# Launching jupyter-lab\n",
    "EVCXR_TMPDIR=<dir from :last_compile_dir> jupyter-lab\n",
    "```"
   ]
  },
  {
   "cell_type": "markdown",
   "metadata": {
    "slideshow": {
     "slide_type": "slide"
    },
    "tags": []
   },
   "source": [
    "## Notebook Kernel & REPL Environment Setup\n",
    "\n",
    "The below should be run at kernel startup before you start.\n",
    "All dependencies that we need to build _before_ anything else in this notebook will work.\n",
    "\n",
    "Instead of rebuilding see the `Reset, keeping build artifacts` section to clear REPL state only.\n"
   ]
  },
  {
   "cell_type": "code",
   "execution_count": null,
   "metadata": {},
   "outputs": [],
   "source": [
    ":dep sp-core = { version = \"7.0.0\", git = \"https://github.com/paritytech/substrate.git\", branch = \"polkadot-v0.9.36\" }\n",
    "\n",
    "// Loading & building dependencies crates here takes *a while*! \n",
    "// Run this while you move on to the readings below.\n",
    "// NOTE: A kernel restart removes all target artifacts except those in sccache!\n",
    "// ONLY restart only if explicitly needed."
   ]
  },
  {
   "attachments": {},
   "cell_type": "markdown",
   "metadata": {
    "slideshow": {
     "slide_type": "slide"
    },
    "tags": []
   },
   "source": [
    "## Digital Signatures Example\n",
    "\n",
    "Here we demonstrate a few parts of the [Substrate Primitives (`sp_core`)](https://paritytech.github.io/substrate/master/sp_core/index.html) library for interacting with keys and signatures."
   ]
  },
  {
   "cell_type": "code",
   "execution_count": null,
   "metadata": {},
   "outputs": [],
   "source": [
    "use sp_core::{\n",
    "\tblake2_256,\n",
    "\tcrypto::{Derive, Ss58Codec, Ss58AddressFormatRegistry},\n",
    "\tDeriveJunction,\n",
    "\thexdisplay::HexDisplay,\n",
    "\tPair as _,\n",
    "\tsr25519::{Pair, Public},\n",
    "};"
   ]
  },
  {
   "cell_type": "markdown",
   "metadata": {},
   "source": [
    "## Key Generation"
   ]
  },
  {
   "cell_type": "code",
   "execution_count": null,
   "metadata": {},
   "outputs": [],
   "source": [
    "// Generate a secret key.\n",
    "let (pair, mnemonic, _) = Pair::generate_with_phrase(None);"
   ]
  },
  {
   "cell_type": "code",
   "execution_count": null,
   "metadata": {},
   "outputs": [],
   "source": [
    "// Reveal your Secret Seed Phrase\n",
    "mnemonic"
   ]
  },
  {
   "cell_type": "code",
   "execution_count": null,
   "metadata": {},
   "outputs": [],
   "source": [
    "// Derive the public key.\n",
    "let pk = pair.public();"
   ]
  },
  {
   "cell_type": "code",
   "execution_count": null,
   "metadata": {},
   "outputs": [],
   "source": [
    "// Print public key as raw bytes\n",
    "pk.0"
   ]
  },
  {
   "cell_type": "code",
   "execution_count": null,
   "metadata": {},
   "outputs": [],
   "source": [
    "// Print public key hex encoded \n",
    "<HexDisplay>::from(&pk.0)"
   ]
  }
 ],
 "metadata": {
  "kernelspec": {
   "display_name": "Rust",
   "language": "rust",
   "name": "rust"
  },
  "language_info": {
   "codemirror_mode": "rust",
   "file_extension": ".rs",
   "mimetype": "text/rust",
   "name": "rust",
   "pygment_lexer": "rust",
   "version": ""
  }
 },
 "nbformat": 4,
 "nbformat_minor": 4
}
