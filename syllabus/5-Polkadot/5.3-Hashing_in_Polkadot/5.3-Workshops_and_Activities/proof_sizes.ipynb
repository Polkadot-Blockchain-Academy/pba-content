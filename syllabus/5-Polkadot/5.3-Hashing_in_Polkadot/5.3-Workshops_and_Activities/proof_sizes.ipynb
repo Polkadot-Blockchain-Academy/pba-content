{
 "cells": [
  {
   "cell_type": "markdown",
   "id": "c04c4931",
   "metadata": {},
   "source": [
    "# Proof sizes\n",
    "\n",
    "We run this with a modified testing environment.\n",
    "The idea is to mainly depend on `sp_state_machine` crate and use a `FakeCallExecutor` and `FakeCodeExecutor` environment to avoid long compiling time.\n",
    "The executor will simply check methods name and run native code.\n",
    "Similarilly externalities are called directly without using host function."
   ]
  },
  {
   "cell_type": "code",
   "execution_count": null,
   "id": "d1945087",
   "metadata": {},
   "outputs": [],
   "source": [
    ":dep codec = { package = \"parity-scale-codec\", version = \"3.1.3\" }\n",
    ":dep sp-core = \"6.0.0\"\n",
    ":dep sp-externalities = \"0.12.0\"\n",
    ":dep sp-state-machine = \"0.12.0\"\n",
    ":dep sp-trie = \"6.0.0\"\n",
    ":dep sp-runtime = \"6.0.0\"\n",
    ":dep zstd = \"0.10.0\"\n",
    ":dep memory-db = \"0.29.0\"\n",
    ":dep wasmi-validation = \"=0.4.0\"\n"
   ]
  },
  {
   "cell_type": "code",
   "execution_count": null,
   "id": "34e8649b",
   "metadata": {},
   "outputs": [],
   "source": [
    "use sp_core::{traits::CodeExecutor, NativeOrEncoded};\n",
    "use sp_externalities::Externalities;\n",
    "use sp_core::traits::RuntimeCode;\n",
    "use sp_state_machine::Backend;\n",
    "use sp_state_machine::OverlayedChanges;\n",
    "use sp_state_machine::TrieBackend;\n",
    "use sp_runtime::traits::BlakeTwo256;\n",
    "use codec::{Encode, Decode};\n",
    "\n",
    "\n",
    "const STATE_VERSION: sp_core::storage::StateVersion = sp_core::storage::StateVersion::V1;\n",
    "\n",
    "/// We use this trait so we don't need to define a new instance in the following code snippets\n",
    "pub trait SimpleRun: Sized + Send + Sync + Clone + 'static {\n",
    "    fn run_runtime(&self, method: &str, ext: &mut dyn Externalities, block_number: u32) -> Vec<u8>;\n",
    "}\n",
    "\n",
    "#[derive(Clone)]\n",
    "struct FakeCodeExecutor<SR>(SR);\n",
    "\n",
    "impl<SR: SimpleRun> sp_core::traits::ReadRuntimeVersion for FakeCodeExecutor<SR> {\n",
    "   \tfn read_runtime_version(\n",
    "\t\t&self,\n",
    "\t\t_wasm_code: &[u8],\n",
    "\t\t_ext: &mut dyn Externalities,\n",
    "\t) -> Result<Vec<u8>, String> {\n",
    "        panic!(\"Fake implementation.\")\n",
    "    }\n",
    "}\n",
    "\n",
    "impl<SR: SimpleRun> CodeExecutor for FakeCodeExecutor<SR> {\n",
    "\t/// just some static string.\n",
    "\ttype Error = &'static str;\n",
    "\n",
    "\tfn call<\n",
    "\t\tR: codec::Codec + PartialEq,\n",
    "\t\tNC: FnOnce() -> Result<R, Box<dyn std::error::Error + Send + Sync>> + std::panic::UnwindSafe,\n",
    "\t>(\n",
    "\t\t&self,\n",
    "\t\text: &mut dyn Externalities,\n",
    "\t\t_runtime_code: &RuntimeCode,\n",
    "\t\tmethod: &str,\n",
    "\t\t_data: &[u8],\n",
    "\t\t_use_native: bool,\n",
    "\t\t_native_call: Option<NC>,\n",
    "\t) -> (Result<NativeOrEncoded<R>, Self::Error>, bool) {\n",
    "        // ---------- Consider that part of runtime: execute_block starting here,\n",
    "        // and execution ending with this function.\n",
    "\n",
    "        // block number usually is in init_block of system\n",
    "        let previous_block: u32 = ext.storage(b\":block_number\")\n",
    "            .and_then(|encoded| Decode::decode(&mut encoded.as_slice()).ok())\n",
    "            .unwrap_or(0);\n",
    "        let current_block = previous_block + 1;\n",
    "        ext.set_storage(b\":block_number\".to_vec(), current_block.encode());\n",
    "        \n",
    "        let result = self.0.run_runtime(method, ext, current_block);\n",
    "        \n",
    "        // finalize block (notice storage root should be the last operation).\n",
    "        let final_root = ext.storage_root(STATE_VERSION);\n",
    "        \n",
    "        (Ok(NativeOrEncoded::Encoded((current_block, final_root, result).encode())), true)\n",
    "    }\n",
    "}\n",
    "\n",
    "fn instantiate_fake_runtime_code() -> RuntimeCode<'static> {\n",
    "    RuntimeCode::empty()\n",
    "}\n",
    "\n",
    "// In memory persistence.\n",
    "// Backend allow access to underlying state.\n",
    "let mut backend = sp_state_machine::new_in_mem::<sp_core::Blake2Hasher>();\n",
    "// Change overlay stores pending changes.\n",
    "let mut change_overlay = OverlayedChanges::default();"
   ]
  },
  {
   "cell_type": "markdown",
   "id": "a4a41974",
   "metadata": {},
   "source": [
    "#### Example:\n",
    "using this fake environment will work this way."
   ]
  },
  {
   "cell_type": "code",
   "execution_count": null,
   "id": "582b5828",
   "metadata": {},
   "outputs": [],
   "source": [
    ":vars"
   ]
  },
  {
   "cell_type": "code",
   "execution_count": null,
   "id": "c296f9a2",
   "metadata": {},
   "outputs": [],
   "source": [
    "#[derive(Clone)]\n",
    "struct Example1;\n",
    "\n",
    "impl SimpleRun for Example1 {\n",
    "    fn run_runtime(&self, _method: &str, ext: &mut dyn Externalities, block_number: u32) -> Vec<u8> {\n",
    "        Default::default()\n",
    "    }\n",
    "}\n",
    "\n",
    "let executor = FakeCodeExecutor(Example1);\n",
    "let parent_state_root = sp_trie::empty_trie_root::<sp_trie::LayoutV1<BlakeTwo256>>();\n",
    "let mut parent_state_root = sp_core::H256::decode(&mut &parent_state_root[..]).unwrap();\n",
    "\n",
    "\n",
    "for i in 1u32..5 {\n",
    "    // simulate executing a block (collator)\n",
    "    let remote_root = backend.storage_root(std::iter::empty(), STATE_VERSION).0;\n",
    "    let (remote_result, remote_proof) = sp_state_machine::prove_execution(\n",
    "        &mut backend,\n",
    "        &mut change_overlay,\n",
    "        &executor,\n",
    "        sp_core::testing::TaskExecutor::new(),\n",
    "        \"test\",\n",
    "        &[],\n",
    "        &RuntimeCode::empty(),\n",
    "    )\n",
    "    .unwrap();\n",
    "\n",
    "\n",
    "    // simulate verifying a block execution (pvf)\n",
    "    let checked_result = sp_state_machine::execution_proof_check::<BlakeTwo256, _, _>(\n",
    "        remote_root,\n",
    "        remote_proof,\n",
    "        &mut Default::default(),\n",
    "        &executor,\n",
    "        sp_core::testing::TaskExecutor::new(),\n",
    "        \"test\",\n",
    "        &[],\n",
    "        &RuntimeCode::empty(),\n",
    "    )\n",
    "    .unwrap();\n",
    "\n",
    "    let (block_number, root): (u32, Vec<u8>) = Decode::decode(&mut remote_result.as_slice()).unwrap();\n",
    "    assert_eq!(block_number, i);\n",
    "    assert_eq!(remote_result, checked_result);\n",
    "    \n",
    "    // flush to backend\n",
    "    // First get changes from the overlay (notice the last operation was state root calculation)\n",
    "    let changes = change_overlay.drain_storage_changes(\n",
    "        &backend,\n",
    "        Default::default(), // ignore block hash\n",
    "\t\t&mut Default::default(),\n",
    "\t\tSTATE_VERSION,\n",
    "\t)?;\n",
    "    // Actually write changes into the backend.\n",
    "\tbackend\n",
    "\t\t.apply_transaction(changes.transaction_storage_root, changes.transaction);\n",
    "}\n"
   ]
  },
  {
   "cell_type": "markdown",
   "id": "0aa1ff4b",
   "metadata": {},
   "source": [
    "1. Write a function `run_block` for running n blocks with any `SimpleRuntime` logic. The function should return the given struct and use as input parameter a given number of blocks."
   ]
  },
  {
   "cell_type": "code",
   "execution_count": null,
   "id": "0631b842",
   "metadata": {},
   "outputs": [],
   "source": [
    "/// stats for a given block execution.\n",
    "/// Can be displayed and compared.\n",
    "#[derive(Debug, PartialEq, Eq)]\n",
    "pub struct BlockExecutionStats {\n",
    "    /// height\n",
    "    block_number: u32,\n",
    "    /// Size of proof\n",
    "    proof_size: usize,\n",
    "    /// Size of compact proof (lookup in susbstrate for `encode_compact`).\n",
    "    compact_proof_size: usize,\n",
    "    /// Size of compressed proof (from compact with zsh).\n",
    "    compressed_proof_size: usize,\n",
    "    /// Size of the full db. Facultative.\n",
    "    full_db_size: usize,\n",
    "    /// Size of the last db state (reflect more the state of a parachain with pruning). Facultative.\n",
    "    last_state_db_size: usize,\n",
    "}\n",
    "\n"
   ]
  },
  {
   "cell_type": "markdown",
   "id": "a54cb230",
   "metadata": {},
   "source": [
    "2. Write a simple `Runtime` that writes `{block_number} world` at key `hello`.\n",
    "Display result for the three first blocks."
   ]
  },
  {
   "cell_type": "code",
   "execution_count": null,
   "id": "5b558265",
   "metadata": {},
   "outputs": [],
   "source": []
  },
  {
   "cell_type": "markdown",
   "id": "0cef0c12",
   "metadata": {},
   "source": [
    "3. Write a simple `Runtime` that appends `{block_number} world` to current value at key `hello`.\n",
    "Run 100 block and display result of three first blocks, then every ten blocks."
   ]
  },
  {
   "cell_type": "code",
   "execution_count": null,
   "id": "fadb31cd",
   "metadata": {},
   "outputs": [],
   "source": []
  },
  {
   "cell_type": "markdown",
   "id": "733173d9",
   "metadata": {},
   "source": [
    "4. Write a simple `Runtime` that writes writes `world` at key `hello {block_number}`, with BE encoding for block number (key of a trie looks way better with BE).\n",
    "Run 100 block and display result of three first blocks, then every ten blocks."
   ]
  },
  {
   "cell_type": "code",
   "execution_count": null,
   "id": "a9f27dec",
   "metadata": {},
   "outputs": [],
   "source": []
  },
  {
   "cell_type": "markdown",
   "id": "bb4f18ca",
   "metadata": {},
   "source": [
    "5. Write a simple `Runtime` that writes writes scale encoded `(\"hello {block_number}\", \"world\")` at key `blake256(\"hello {block_number}\")`, with scale encoding (maybe compact) for block number.\n",
    "Run 100 block and display result of three first blocks, then every ten blocks."
   ]
  },
  {
   "cell_type": "code",
   "execution_count": null,
   "id": "8af4e2e1",
   "metadata": {},
   "outputs": [],
   "source": []
  },
  {
   "cell_type": "markdown",
   "id": "bab635bf",
   "metadata": {},
   "source": [
    "5. From 3, 4 and 5 runtimes, adds reads of n pseudo random value (use block number as seed)."
   ]
  },
  {
   "cell_type": "code",
   "execution_count": null,
   "id": "89d5db73",
   "metadata": {},
   "outputs": [],
   "source": []
  },
  {
   "cell_type": "markdown",
   "id": "fe558487",
   "metadata": {},
   "source": [
    "Play with 5 with different parameters. What are your conclusion on the different behavior observed between 3 and 4?\n",
    "Impact of using compact proof? Impact of compressing proof?"
   ]
  },
  {
   "cell_type": "markdown",
   "id": "c1ed4e06",
   "metadata": {},
   "source": [
    "- 3 (all value inserted bellow a single key):\n",
    "\n",
    "- 4 (all value written with their own key):\n",
    "\n",
    "- 5 (all value written with their own key):\n",
    "\n",
    "- Compact proof ?\n",
    "\n",
    "- Compressing ?"
   ]
  }
 ],
 "metadata": {
  "kernelspec": {
   "display_name": "Rust",
   "language": "rust",
   "name": "rust"
  },
  "language_info": {
   "codemirror_mode": "rust",
   "file_extension": ".rs",
   "mimetype": "text/rust",
   "name": "Rust",
   "pygment_lexer": "rust",
   "version": ""
  }
 },
 "nbformat": 4,
 "nbformat_minor": 5
}
