{
 "cells": [
  {
   "cell_type": "markdown",
   "id": "a6f2e9df",
   "metadata": {},
   "source": [
    "# Cryptography Hashing Etc"
   ]
  },
  {
   "cell_type": "code",
   "execution_count": 2,
   "id": "0e93c254",
   "metadata": {
    "scrolled": true,
    "vscode": {
     "languageId": "rust"
    }
   },
   "outputs": [
    {
     "data": {
      "text/plain": [
       "sccache: true\n"
      ]
     },
     "execution_count": 2,
     "metadata": {},
     "output_type": "execute_result"
    }
   ],
   "source": [
    ":sccache 1"
   ]
  },
  {
   "cell_type": "markdown",
   "id": "cbc39752",
   "metadata": {},
   "source": [
    "We import `sp_core` for its `HexDisplay` struct (and maybe others?). We could show a more idiomatic way to display hex in Rust so as not to mention Substrate too early on."
   ]
  },
  {
   "cell_type": "code",
   "execution_count": 3,
   "id": "2fb4a413",
   "metadata": {
    "vscode": {
     "languageId": "rust"
    }
   },
   "outputs": [],
   "source": [
    ":dep sp-core = \"3.0\""
   ]
  },
  {
   "cell_type": "code",
   "execution_count": 4,
   "id": "967a9ebc",
   "metadata": {
    "vscode": {
     "languageId": "rust"
    }
   },
   "outputs": [],
   "source": [
    "use sp_core::*;\n",
    "use hexdisplay::*;"
   ]
  },
  {
   "cell_type": "code",
   "execution_count": 5,
   "id": "be2425e9",
   "metadata": {
    "vscode": {
     "languageId": "rust"
    }
   },
   "outputs": [
    {
     "data": {
      "text/plain": [
       "0001020304"
      ]
     },
     "execution_count": 5,
     "metadata": {},
     "output_type": "execute_result"
    }
   ],
   "source": [
    "HexDisplay::from(&[0u8,1,2,3,4])"
   ]
  },
  {
   "cell_type": "code",
   "execution_count": 6,
   "id": "594f2834",
   "metadata": {
    "vscode": {
     "languageId": "rust"
    }
   },
   "outputs": [
    {
     "data": {
      "text/plain": [
       "4142434445"
      ]
     },
     "execution_count": 6,
     "metadata": {},
     "output_type": "execute_result"
    }
   ],
   "source": [
    "HexDisplay::from(b\"ABCDE\")"
   ]
  },
  {
   "cell_type": "markdown",
   "id": "94a0ec7f",
   "metadata": {},
   "source": [
    "Let's do a XX hash of some string"
   ]
  },
  {
   "cell_type": "code",
   "execution_count": 7,
   "id": "71b5c43d",
   "metadata": {
    "vscode": {
     "languageId": "rust"
    }
   },
   "outputs": [
    {
     "data": {
      "text/plain": [
       "0b1edd8053abf4f4"
      ]
     },
     "execution_count": 7,
     "metadata": {},
     "output_type": "execute_result"
    }
   ],
   "source": [
    "HexDisplay::from(&twox_64(b\"Polkadot academy\"))"
   ]
  },
  {
   "cell_type": "code",
   "execution_count": 8,
   "id": "1c5ad26b",
   "metadata": {
    "vscode": {
     "languageId": "rust"
    }
   },
   "outputs": [
    {
     "data": {
      "text/plain": [
       "c61553a60b946466"
      ]
     },
     "execution_count": 8,
     "metadata": {},
     "output_type": "execute_result"
    }
   ],
   "source": [
    "HexDisplay::from(&twox_64(b\"Polkadot Academy\"))"
   ]
  },
  {
   "cell_type": "markdown",
   "id": "c4543468",
   "metadata": {},
   "source": [
    "Notice the two hashes are completely different. The input strings vary only slightly, but the output is totally different."
   ]
  },
  {
   "cell_type": "markdown",
   "id": "b7ac5d16",
   "metadata": {},
   "source": [
    "Now let's try Blake 2 (128-bit version)"
   ]
  },
  {
   "cell_type": "code",
   "execution_count": 9,
   "id": "3e5f2e31",
   "metadata": {
    "vscode": {
     "languageId": "rust"
    }
   },
   "outputs": [
    {
     "data": {
      "text/plain": [
       "4b6cade729d582d2ae270c323ec971f9"
      ]
     },
     "execution_count": 9,
     "metadata": {},
     "output_type": "execute_result"
    }
   ],
   "source": [
    "HexDisplay::from(&blake2_128(b\"Polkadot academy\"))"
   ]
  },
  {
   "cell_type": "markdown",
   "id": "13be128f",
   "metadata": {},
   "source": [
    "This one is starting to be more cryptographically secure. But 128 bit is starting to not be so secure with modern computation speed."
   ]
  },
  {
   "cell_type": "code",
   "execution_count": 10,
   "id": "ecab16b2",
   "metadata": {
    "vscode": {
     "languageId": "rust"
    }
   },
   "outputs": [
    {
     "data": {
      "text/plain": [
       "ddba5560ff875ad406cb4f911f23970b"
      ]
     },
     "execution_count": 10,
     "metadata": {},
     "output_type": "execute_result"
    }
   ],
   "source": [
    "HexDisplay::from(&blake2_128(b\"Polkadot Academy\"))"
   ]
  },
  {
   "cell_type": "markdown",
   "id": "9c9c3a18",
   "metadata": {},
   "source": [
    "These hash functions are all deterministic. No matter where you run it, you always get the same output."
   ]
  },
  {
   "cell_type": "code",
   "execution_count": null,
   "id": "e8c231ac",
   "metadata": {
    "vscode": {
     "languageId": "rust"
    }
   },
   "outputs": [],
   "source": []
  },
  {
   "cell_type": "markdown",
   "id": "5ac72150",
   "metadata": {},
   "source": [
    "## Symmetric Encryption"
   ]
  },
  {
   "cell_type": "markdown",
   "id": "51a61c3b",
   "metadata": {},
   "source": [
    "No symemtric encryption is included in sp-core. Could use this crate https://docs.rs/aes-gcm-siv/latest/aes_gcm_siv/"
   ]
  }
 ],
 "metadata": {
  "kernelspec": {
   "display_name": "Rust",
   "language": "rust",
   "name": "rust"
  },
  "language_info": {
   "codemirror_mode": "rust",
   "file_extension": ".rs",
   "mimetype": "text/rust",
   "name": "Rust",
   "pygment_lexer": "rust",
   "version": ""
  }
 },
 "nbformat": 4,
 "nbformat_minor": 5
}
