{
 "cells": [
  {
   "cell_type": "markdown",
   "metadata": {
    "slideshow": {
     "slide_type": "slide"
    },
    "tags": []
   },
   "source": [
    "# Introduction to Cryptography for Web3 Engineers"
   ]
  },
  {
   "cell_type": "markdown",
   "metadata": {
    "slideshow": {
     "slide_type": "slide"
    },
    "tags": []
   },
   "source": [
    "## Notebook Kernel Setup\n",
    "\n",
    "The below enables optional features we want for speed & reuse of build artifacts, should be run at kernel startup, and all dependencies that we need to build _before_ anything else in this notebook will work.\n",
    "\n",
    "Instead of rebuilding see the `Reset, keeping build artifacts` section to clear REPL state only. \n"
   ]
  },
  {
   "cell_type": "code",
   "execution_count": 2,
   "metadata": {
    "vscode": {
     "languageId": "rust"
    }
   },
   "outputs": [
    {
     "data": {
      "text/plain": [
       "sccache: true\n",
       "linker: lld\n"
      ]
     },
     "execution_count": 2,
     "metadata": {},
     "output_type": "execute_result"
    }
   ],
   "source": [
    ":sccache 1\n",
    ":linker lld\n",
    "\n",
    ":dep sp-core = { version = \"6.0.0\", git = \"https://github.com/paritytech/substrate.git\", branch = \"polkadot-v0.9.25\" }\n",
    "\n",
    "// Loading & building dependencies crates here takes *a while*! \n",
    "// Run this while you move on to the readings below.\n",
    "// NOTE: A kernel restart removes all target artifacts except those in sccache!\n",
    "// ONLY restart only if explicitly needed."
   ]
  },
  {
   "cell_type": "markdown",
   "metadata": {
    "slideshow": {
     "slide_type": "slide"
    },
    "tags": []
   },
   "source": [
    "## Digital Signatures\n",
    "\n",
    "Here we demonstrate a few parts of [Substrate's primitive core (`sp_core`)](https://paritytech.github.io/substrate/master/sp_core/index.html) library's component for interacting with keys and signatures."
   ]
  },
  {
   "cell_type": "code",
   "execution_count": 3,
   "metadata": {
    "vscode": {
     "languageId": "rust"
    }
   },
   "outputs": [],
   "source": [
    "use sp_core::{\n",
    "\tblake2_256,\n",
    "\tcrypto::Derive,\n",
    "\tDeriveJunction,\n",
    "\tPair as _,\n",
    "\tsr25519::{Pair, Public},\n",
    "};"
   ]
  },
  {
   "cell_type": "markdown",
   "metadata": {},
   "source": [
    "## Key generation"
   ]
  },
  {
   "cell_type": "code",
   "execution_count": 4,
   "metadata": {
    "vscode": {
     "languageId": "rust"
    }
   },
   "outputs": [
    {
     "name": "stdout",
     "output_type": "stream",
     "text": [
      "Secret Phrase: sock limb mammal spirit lion early perfect vacant donkey web galaxy frost\n",
      "Secret Key: [229, 179, 222, 104, 244, 124, 166, 124, 195, 22, 85, 173, 165, 74, 126, 244, 198, 34, 145, 75, 120, 6, 231, 14, 248, 225, 105, 199, 34, 174, 239, 198]\n"
     ]
    }
   ],
   "source": [
    "// Generate a secret key.\n",
    "let (pair, mnemonic, raw_seed) = Pair::generate_with_phrase(None);\n",
    "println!(\"Secret Phrase: {}\", mnemonic);\n",
    "println!(\"Secret Key: {:?}\", raw_seed);"
   ]
  },
  {
   "cell_type": "code",
   "execution_count": 5,
   "metadata": {
    "vscode": {
     "languageId": "rust"
    }
   },
   "outputs": [
    {
     "name": "stdout",
     "output_type": "stream",
     "text": [
      "Public Key: [162, 182, 134, 110, 56, 211, 154, 186, 153, 58, 155, 137, 211, 195, 120, 102, 80, 253, 4, 117, 49, 254, 29, 60, 121, 1, 149, 157, 225, 133, 171, 126]\n",
      "\n"
     ]
    }
   ],
   "source": [
    "// Derive the public key.\n",
    "let pk = pair.public();\n",
    "println!(\"Public Key: {:?}\\n\", pk.0);"
   ]
  },
  {
   "cell_type": "markdown",
   "metadata": {},
   "source": [
    "## Signatures"
   ]
  },
  {
   "cell_type": "code",
   "execution_count": 6,
   "metadata": {
    "vscode": {
     "languageId": "rust"
    }
   },
   "outputs": [
    {
     "name": "stdout",
     "output_type": "stream",
     "text": [
      "Message: \"Welcome to Polkadot Blockchain Academy 2022\"\n",
      "Signature: 7c76df84d34cedd97844e83318d6025d2125579a462f48a5b427a5cf6ad1343c0c8a97f00bd765f96a6db5fe585b913a4d065f79897826f249ce704459009d86\n"
     ]
    }
   ],
   "source": [
    "// Sign a message.\n",
    "let message = b\"Welcome to Polkadot Blockchain Academy 2022\";\n",
    "let signature = pair.sign(&message[..]);\n",
    "println!(\"Message: {:?}\", std::str::from_utf8(&message[..]).unwrap());\n",
    "println!(\"Signature: {:?}\", &signature);"
   ]
  },
  {
   "cell_type": "code",
   "execution_count": 7,
   "metadata": {
    "vscode": {
     "languageId": "rust"
    }
   },
   "outputs": [
    {
     "name": "stdout",
     "output_type": "stream",
     "text": [
      "Signature verified!\n",
      "\n"
     ]
    }
   ],
   "source": [
    "// Verify the signature.\n",
    "assert!(Pair::verify(&signature, &message[..], &pk));\n",
    "println!(\"Signature verified!\\n\");"
   ]
  },
  {
   "cell_type": "code",
   "execution_count": 8,
   "metadata": {
    "vscode": {
     "languageId": "rust"
    }
   },
   "outputs": [
    {
     "name": "stdout",
     "output_type": "stream",
     "text": [
      "Tampered Message: \"Welcome to Polkadot Blockchain Academy 2021\"\n",
      "Signature rejected!\n",
      "\n"
     ]
    }
   ],
   "source": [
    "// Alter the message.\n",
    "let tampered = b\"Welcome to Polkadot Blockchain Academy 2021\";\n",
    "assert!(!Pair::verify(&signature, &tampered[..], &pk));\n",
    "println!(\"Tampered Message: {:?}\", std::str::from_utf8(&tampered[..]).unwrap());\n",
    "println!(\"Signature rejected!\\n\");"
   ]
  },
  {
   "cell_type": "code",
   "execution_count": 9,
   "metadata": {
    "vscode": {
     "languageId": "rust"
    }
   },
   "outputs": [
    {
     "name": "stdout",
     "output_type": "stream",
     "text": [
      "Longer Message: \"Welcome to Polkadot Blockchain Academy 2022. We are staying in Cambridge, which I was told is far superior to Oxford, but I should probably leave that to others to hash out.\"\n",
      "Long Message Hash: [32, 248, 188, 171, 200, 39, 71, 8, 146, 106, 11, 83, 138, 3, 249, 154, 134, 149, 104, 188, 38, 250, 1, 130, 161, 99, 253, 184, 125, 137, 253, 116]\n"
     ]
    }
   ],
   "source": [
    "/* Message Hash */\n",
    "let long_message =\n",
    "\tb\"Welcome to Polkadot Blockchain Academy 2022. We are staying in Cambridge, which I was told is far superior to Oxford, but I should probably leave that to others to hash out.\";\n",
    "let message_hash = blake2_256(&long_message[..]);\n",
    "let signature_on_hash = pair.sign(&message_hash);\n",
    "println!(\"Longer Message: {:?}\", std::str::from_utf8(&long_message[..]).unwrap());\n",
    "println!(\"Long Message Hash: {:?}\", message_hash);"
   ]
  },
  {
   "cell_type": "code",
   "execution_count": 10,
   "metadata": {
    "vscode": {
     "languageId": "rust"
    }
   },
   "outputs": [
    {
     "name": "stdout",
     "output_type": "stream",
     "text": [
      "Signature verified!\n",
      "\n"
     ]
    }
   ],
   "source": [
    "// Verify the signature.\n",
    "assert!(Pair::verify(&signature_on_hash, blake2_256(&long_message[..]), &pk));\n",
    "println!(\"Signature verified!\\n\");"
   ]
  },
  {
   "cell_type": "markdown",
   "metadata": {},
   "source": [
    "## Hard Derivation"
   ]
  },
  {
   "cell_type": "code",
   "execution_count": 11,
   "metadata": {
    "vscode": {
     "languageId": "rust"
    }
   },
   "outputs": [
    {
     "name": "stdout",
     "output_type": "stream",
     "text": [
      "Polkadot Public Key: [178, 202, 88, 110, 165, 122, 4, 199, 103, 231, 119, 225, 158, 45, 9, 39, 76, 11, 155, 101, 204, 3, 219, 55, 59, 21, 123, 49, 248, 242, 205, 100]\n",
      "Kusama Public Key: [208, 228, 186, 120, 37, 135, 46, 177, 103, 116, 119, 250, 186, 49, 195, 158, 99, 187, 218, 176, 34, 133, 119, 64, 217, 253, 188, 39, 120, 27, 138, 81]\n",
      "\n"
     ]
    }
   ],
   "source": [
    "// Derive new key pairs using //polkadot and //kusama.\n",
    "let pair_polkadot = Pair::from_string(&format!(\"{}//polkadot\", &mnemonic), None);\n",
    "let pk_polkadot = pair_polkadot.unwrap().public();\n",
    "let pair_kusama = Pair::from_string(&format!(\"{}//kusama\", &mnemonic), None);\n",
    "let pk_kusama = pair_kusama.unwrap().public();\n",
    "println!(\"Polkadot Public Key: {:?}\", &pk_polkadot.0);\n",
    "println!(\"Kusama Public Key: {:?}\\n\", pk_kusama.0);"
   ]
  },
  {
   "cell_type": "markdown",
   "metadata": {},
   "source": [
    "## Soft Derivation"
   ]
  },
  {
   "cell_type": "code",
   "execution_count": 12,
   "metadata": {
    "vscode": {
     "languageId": "rust"
    }
   },
   "outputs": [
    {
     "name": "stdout",
     "output_type": "stream",
     "text": [
      "Polkadot Soft-Derived Public Key (from secret): [86, 244, 24, 127, 228, 0, 73, 142, 195, 188, 135, 123, 68, 97, 208, 39, 120, 154, 10, 98, 112, 144, 205, 181, 9, 42, 139, 47, 244, 9, 172, 26]\n",
      "Polkadot Soft-Derived Public Key (from pubkey): [86, 244, 24, 127, 228, 0, 73, 142, 195, 188, 135, 123, 68, 97, 208, 39, 120, 154, 10, 98, 112, 144, 205, 181, 9, 42, 139, 47, 244, 9, 172, 26]\n",
      "They are equal!\n"
     ]
    }
   ],
   "source": [
    "// Derive a soft path on the Polkadot key.\n",
    "let pair_polkadot_zero = Pair::from_string(&format!(\"{}//polkadot/0\", &mnemonic), None);\n",
    "let pubkey_soft_derived_with_secret = pair_polkadot_zero.unwrap().public();\n",
    "println!(\n",
    "\t\"Polkadot Soft-Derived Public Key (from secret): {:?}\",\n",
    "\t&pubkey_soft_derived_with_secret.0\n",
    ");\n",
    "\n",
    "// Derive a soft path on the Polkadot key, but only use the _public_ material.\n",
    "let pk_polkadot: Public = Public(pk_polkadot.0);\n",
    "let path = vec![DeriveJunction::soft(0u8)];\n",
    "let pubkey_soft_derived_without_secret = pk_polkadot.derive(path.into_iter());\n",
    "println!(\n",
    "\t\"Polkadot Soft-Derived Public Key (from pubkey): {:?}\",\n",
    "\t&pubkey_soft_derived_without_secret.unwrap().0\n",
    ");\n",
    "\n",
    "assert_eq!(pubkey_soft_derived_with_secret, pubkey_soft_derived_without_secret.unwrap());\n",
    "println!(\"They are equal!\");"
   ]
  },
  {
   "cell_type": "markdown",
   "metadata": {},
   "source": [
    "### Reset, keeping build artifacts\n",
    "\n",
    "Run the below cell to \"reset\" the kernel"
   ]
  },
  {
   "cell_type": "code",
   "execution_count": 13,
   "metadata": {
    "vscode": {
     "languageId": "rust"
    }
   },
   "outputs": [
    {
     "data": {
      "text/plain": [
       "\"/tmp/.tmph1dO6j\"\n"
      ]
     },
     "execution_count": 13,
     "metadata": {},
     "output_type": "execute_result"
    }
   ],
   "source": [
    ":clear // Clear all state, **keeping compilation cache**, use this over a kernel restart when possible. You will need to re-run the :deps to have them loaded into state. \n",
    ":last_compile_dir // Show where the deps we last built live, in case you want to recover these"
   ]
  }
 ],
 "metadata": {
  "kernelspec": {
   "display_name": "Rust",
   "language": "rust",
   "name": "rust"
  },
  "language_info": {
   "codemirror_mode": "rust",
   "file_extension": ".rs",
   "mimetype": "text/rust",
   "name": "Rust",
   "pygment_lexer": "rust",
   "version": ""
  }
 },
 "nbformat": 4,
 "nbformat_minor": 4
}
