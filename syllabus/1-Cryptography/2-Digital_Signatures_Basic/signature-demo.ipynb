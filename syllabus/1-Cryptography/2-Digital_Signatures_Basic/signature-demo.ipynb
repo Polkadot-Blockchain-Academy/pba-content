{
 "cells": [
  {
   "cell_type": "markdown",
   "metadata": {
    "slideshow": {
     "slide_type": "slide"
    },
    "tags": []
   },
   "source": [
    "# Signing Demo for Web3 Engineers"
   ]
  },
  {
   "cell_type": "markdown",
   "metadata": {
    "slideshow": {
     "slide_type": "slide"
    },
    "tags": []
   },
   "source": [
    "## Notebook Kernel Setup\n",
    "\n",
    "The below enables optional features we want for speed & reuse of build artifacts, should be run at kernel startup, and all dependencies that we need to build _before_ anything else in this notebook will work.\n",
    "\n",
    "Instead of rebuilding see the `Reset, keeping build artifacts` section to clear REPL state only. \n"
   ]
  },
  {
   "cell_type": "code",
   "execution_count": null,
   "metadata": {},
   "outputs": [],
   "source": [
    ":dep sp-core = { version = \"6.0.0\", git = \"https://github.com/paritytech/substrate.git\", branch = \"polkadot-v0.9.25\" }\n",
    "\n",
    "// Loading & building dependencies crates here takes *a while*! \n",
    "// Run this while you move on to the readings below.\n",
    "// NOTE: A kernel restart removes all target artifacts!\n",
    "// ONLY restart only if explicitly needed."
   ]
  },
  {
   "cell_type": "markdown",
   "metadata": {
    "slideshow": {
     "slide_type": "slide"
    },
    "tags": []
   },
   "source": [
    "## Digital Signatures\n",
    "\n",
    "Here we demonstrate a few parts of the [Substrate Primitives (`sp_core`)](https://paritytech.github.io/substrate/master/sp_core/index.html) library for interacting with keys and signatures."
   ]
  },
  {
   "cell_type": "code",
   "execution_count": null,
   "metadata": {},
   "outputs": [],
   "source": [
    "use sp_core::{\n",
    "\tblake2_256,\n",
    "\tcrypto::Derive,\n",
    "\tDeriveJunction,\n",
    "\tPair as _,\n",
    "\tsr25519::{Pair, Public},\n",
    "};"
   ]
  },
  {
   "cell_type": "markdown",
   "metadata": {},
   "source": [
    "## Key generation"
   ]
  },
  {
   "cell_type": "code",
   "execution_count": null,
   "metadata": {},
   "outputs": [],
   "source": [
    "// Generate a secret key.\n",
    "let (pair, mnemonic, raw_seed) = Pair::generate_with_phrase(None);\n",
    "println!(\"Secret Phrase: {}\", mnemonic);\n",
    "println!(\"Secret Key: {:?}\", raw_seed);"
   ]
  },
  {
   "cell_type": "code",
   "execution_count": null,
   "metadata": {},
   "outputs": [],
   "source": [
    "// Derive the public key.\n",
    "let pk = pair.public();\n",
    "println!(\"Public Key: {:?}\\n\", pk.0);"
   ]
  },
  {
   "cell_type": "markdown",
   "metadata": {},
   "source": [
    "## Signatures"
   ]
  },
  {
   "cell_type": "code",
   "execution_count": null,
   "metadata": {},
   "outputs": [],
   "source": [
    "// Sign a message.\n",
    "let message = b\"Welcome to the Polkadot Blockchain Academy\";\n",
    "let signature = pair.sign(&message[..]);\n",
    "println!(\"Message: {:?}\", std::str::from_utf8(&message[..]).unwrap());\n",
    "println!(\"Signature: {:?}\", &signature);"
   ]
  },
  {
   "cell_type": "code",
   "execution_count": null,
   "metadata": {},
   "outputs": [],
   "source": [
    "// Verify the signature.\n",
    "assert!(Pair::verify(&signature, &message[..], &pk));\n",
    "println!(\"Signature verified!\\n\");"
   ]
  },
  {
   "cell_type": "code",
   "execution_count": null,
   "metadata": {},
   "outputs": [],
   "source": [
    "// Alter the message.\n",
    "let tampered = b\"Welcome to the Kusama Blockchain Academy\";\n",
    "assert!(!Pair::verify(&signature, &tampered[..], &pk));\n",
    "println!(\"Tampered Message: {:?}\", std::str::from_utf8(&tampered[..]).unwrap());\n",
    "println!(\"Signature rejected!\\n\");"
   ]
  },
  {
   "cell_type": "code",
   "execution_count": null,
   "metadata": {},
   "outputs": [],
   "source": [
    "/* Message Hash */\n",
    "let long_message =\n",
    "\tb\"Welcome to Polkadot Blockchain Academy. We are going to learn a whole lot together!\";\n",
    "let message_hash = blake2_256(&long_message[..]);\n",
    "let signature_on_hash = pair.sign(&message_hash[..]);\n",
    "println!(\"Longer Message: {:?}\", std::str::from_utf8(&long_message[..]).unwrap());\n",
    "println!(\"Long Message Hash: {:?}\", message_hash);"
   ]
  },
  {
   "cell_type": "code",
   "execution_count": null,
   "metadata": {},
   "outputs": [],
   "source": [
    "// Verify the signature.\n",
    "assert!(Pair::verify(&signature_on_hash, blake2_256(&long_message[..]), &pk));\n",
    "println!(\"Signature verified!\\n\");"
   ]
  },
  {
   "cell_type": "markdown",
   "metadata": {},
   "source": [
    "## Hard Derivation"
   ]
  },
  {
   "cell_type": "code",
   "execution_count": null,
   "metadata": {},
   "outputs": [],
   "source": [
    "// Derive new key pairs using //polkadot and //kusama.\n",
    "let pair_polkadot = Pair::from_string(&format!(\"{}//polkadot\", &mnemonic), None);\n",
    "let pk_polkadot = pair_polkadot.unwrap().public();\n",
    "let pair_kusama = Pair::from_string(&format!(\"{}//kusama\", &mnemonic), None);\n",
    "let pk_kusama = pair_kusama.unwrap().public();\n",
    "println!(\"Polkadot Public Key: {:?}\", &pk_polkadot.0);\n",
    "println!(\"Kusama Public Key: {:?}\\n\", pk_kusama.0);"
   ]
  },
  {
   "cell_type": "markdown",
   "metadata": {},
   "source": [
    "## Soft Derivation"
   ]
  },
  {
   "cell_type": "code",
   "execution_count": null,
   "metadata": {},
   "outputs": [],
   "source": [
    "// Derive a soft path on the Polkadot key.\n",
    "let pair_polkadot_zero = Pair::from_string(&format!(\"{}//polkadot/0\", &mnemonic), None);\n",
    "let pubkey_soft_derived_with_secret = pair_polkadot_zero.unwrap().public();\n",
    "println!(\n",
    "\t\"Polkadot Soft-Derived Public Key (from secret): {:?}\",\n",
    "\t&pubkey_soft_derived_with_secret.0\n",
    ");\n",
    "\n",
    "// Derive a soft path on the Polkadot key, but only use the _public_ material.\n",
    "let pk_polkadot: Public = Public(pk_polkadot.0);\n",
    "let path = vec![DeriveJunction::soft(0u8)];\n",
    "let pubkey_soft_derived_without_secret = pk_polkadot.derive(path.into_iter());\n",
    "println!(\n",
    "\t\"Polkadot Soft-Derived Public Key (from pubkey): {:?}\",\n",
    "\t&pubkey_soft_derived_without_secret.unwrap().0\n",
    ");\n",
    "\n",
    "assert_eq!(pubkey_soft_derived_with_secret, pubkey_soft_derived_without_secret.unwrap());\n",
    "println!(\"They are equal!\");"
   ]
  },
  {
   "cell_type": "markdown",
   "metadata": {},
   "source": [
    "### Reset, keeping build artifacts\n",
    "\n",
    "Run the below cell to \"reset\" the kernel"
   ]
  },
  {
   "cell_type": "code",
   "execution_count": null,
   "metadata": {},
   "outputs": [],
   "source": [
    ":clear // Clear all state, **keeping compilation cache**, use this over a kernel restart when possible. You will need to re-run the :deps to have them loaded into state. \n",
    ":last_compile_dir // Show where the deps we last built live, in case you want to recover these"
   ]
  }
 ],
 "metadata": {
  "kernelspec": {
   "display_name": "Rust",
   "language": "rust",
   "name": "rust"
  },
  "language_info": {
   "codemirror_mode": "rust",
   "file_extension": ".rs",
   "mimetype": "text/rust",
   "name": "rust",
   "pygment_lexer": "rust",
   "version": ""
  }
 },
 "nbformat": 4,
 "nbformat_minor": 4
}
